{
 "cells": [
  {
   "cell_type": "markdown",
   "id": "34533109",
   "metadata": {},
   "source": [
    "**Задание 1**\n",
    "<br>Напишите код на Python в среде Jupyter Notebook для решения следующей задачи.\n",
    "\n",
    "<br>Дана переменная, в которой хранится слово из латинских букв. Напишите код, который выводит на экран:\n",
    "<li>среднюю букву, если число букв в слове нечётное;\n",
    "<li>две средних буквы, если число букв чётное.\n",
    "<br>\n",
    "<br>Пример работы программы:\n",
    "\n",
    "- word = 'test’\n",
    "<br> Результат: es\n",
    "- word = 'testing’\n",
    "<br> Результат: t\n"
   ]
  },
  {
   "cell_type": "code",
   "execution_count": 50,
   "id": "6ed819a4",
   "metadata": {},
   "outputs": [],
   "source": [
    "# из модуля с константами для работы со строками загрузим константу ascii_letters (англ. буквы)\n",
    "from string import ascii_letters\n",
    "\n",
    "# функция для проверки символов строки на принадлежность латинским буквам, регистр значения не имеет\n",
    "def is_latin_letters(word):\n",
    "    # если результат каждый символ слова принадлежит ascii_letters, то возвращаем истину\n",
    "    return all(map(lambda c: c in ascii_letters, word))"
   ]
  },
  {
   "cell_type": "code",
   "execution_count": 51,
   "id": "16687ddf",
   "metadata": {},
   "outputs": [
    {
     "name": "stdout",
     "output_type": "stream",
     "text": [
      "test\n",
      "es\n"
     ]
    }
   ],
   "source": [
    "word = input()\n",
    "if is_latin_letters(word):\n",
    "    l = len(word)\n",
    "    l_half = int(l/2)\n",
    "    if l % 2 == 0:\n",
    "        print(word[l_half-1:l_half+1])\n",
    "    else:\n",
    "        print(word[l_half])\n",
    "else:\n",
    "    print('Введенное слово содержит не только латинские буквы')"
   ]
  },
  {
   "cell_type": "markdown",
   "id": "cf873b0e",
   "metadata": {},
   "source": [
    "**Задание 2 (необязательное)**\n",
    "\n",
    "<br>Напишите код на Python в среде Jupyter Notebook для решения следующей задачи.\n",
    "\n",
    "<br>Вы делаете MVP (минимально жизнеспособный продукт) dating-сервиса.\n",
    "<br>У вас есть список юношей и девушек.\n",
    "<br>Выдвигаем гипотезу: лучшие рекомендации получатся, если просто отсортировать имена по алфавиту и познакомить людей с одинаковыми индексами после сортировки. Но вы не будете никого знакомить, если кто-то может остаться без пары.\n",
    "\n",
    "<br>Примеры работы программы:\n",
    "\n",
    "- boys = [‘Peter’, ‘Alex’, ‘John’, ‘Arthur’, ‘Richard’]\n",
    "- girls = [‘Kate’, ‘Liza’, ‘Kira’, ‘Emma’, ‘Trisha’]\n",
    "\n",
    "<br>Результат\n",
    "<br>Идеальные пары:\n",
    "<li>Alex и Emma\n",
    "<li>Arthur и Kate\n",
    "<li>John и Kira\n",
    "<li>Peter и Liza\n",
    "<li>Richard и Trisha\n",
    "\n",
    "<br>boys = [‘Peter’, ‘Alex’, ‘John’, ‘Arthur’, ‘Richard’, ‘Michael’]\n",
    "<br>girls = [‘Kate’, ‘Liza’, ‘Kira’, ‘Emma’, ‘Trisha’]\n",
    "\n",
    "<br>Результат: Внимание, кто-то может остаться без пары."
   ]
  },
  {
   "cell_type": "code",
   "execution_count": 52,
   "id": "909b481c",
   "metadata": {},
   "outputs": [
    {
     "name": "stdout",
     "output_type": "stream",
     "text": [
      "Пустой любой из списков (Enter) = Выход из программы\n",
      "Введите имена парней через запятую: Peter,Alex,John,Arthur,Richard\n",
      "Введите имена девушек через запятую: Kate,Liza,Kira,Emma,Trisha\n",
      "===============================\n",
      "Alex и Emma\n",
      "Arthur и Kate\n",
      "John и Kira\n",
      "Peter и Liza\n",
      "Richard и Trisha\n",
      "===============================\n",
      "Пустой любой из списков (Enter) = Выход из программы\n",
      "Введите имена парней через запятую: Peter,Alex,John,Arthur,Richard,Michael\n",
      "Введите имена девушек через запятую: Kate,Liza,Kira,Emma,Trisha\n",
      "Внимание, кто-то может остаться без пары!\n",
      "Пустой любой из списков (Enter) = Выход из программы\n",
      "Введите имена парней через запятую: \n",
      "=====До новых встреч=====\n"
     ]
    }
   ],
   "source": [
    "while True:\n",
    "    print('Пустой любой из списков (Enter) = Выход из программы')\n",
    "    boys = input('Введите имена парней через запятую: ').split(',')\n",
    "    if boys[0] == '':\n",
    "        print('=====До новых встреч=====')\n",
    "        break\n",
    "    girls = input('Введите имена девушек через запятую: ').split(',')\n",
    "    if girls[0] == '':\n",
    "        print('=====До новых встреч=====')\n",
    "        break\n",
    "    if len(boys) != len(girls):\n",
    "        print('Внимание, кто-то может остаться без пары!', end='\\n')\n",
    "    else:\n",
    "        print('===============================')\n",
    "        for b, g in zip(sorted(boys), sorted(girls)):\n",
    "            print(f'{b} и {g}')\n",
    "        print('===============================')"
   ]
  },
  {
   "cell_type": "code",
   "execution_count": null,
   "id": "5ba6e493",
   "metadata": {},
   "outputs": [],
   "source": []
  }
 ],
 "metadata": {
  "kernelspec": {
   "display_name": "Python 3 (ipykernel)",
   "language": "python",
   "name": "python3"
  },
  "language_info": {
   "codemirror_mode": {
    "name": "ipython",
    "version": 3
   },
   "file_extension": ".py",
   "mimetype": "text/x-python",
   "name": "python",
   "nbconvert_exporter": "python",
   "pygments_lexer": "ipython3",
   "version": "3.9.12"
  },
  "toc": {
   "base_numbering": 1,
   "nav_menu": {},
   "number_sections": true,
   "sideBar": true,
   "skip_h1_title": false,
   "title_cell": "Table of Contents",
   "title_sidebar": "Contents",
   "toc_cell": false,
   "toc_position": {},
   "toc_section_display": true,
   "toc_window_display": false
  }
 },
 "nbformat": 4,
 "nbformat_minor": 5
}
